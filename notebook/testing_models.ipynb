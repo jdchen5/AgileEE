{
 "cells": [
  {
   "cell_type": "code",
   "execution_count": 1,
   "id": "464a1195-ee1a-41a3-a0e6-0264526b93fd",
   "metadata": {},
   "outputs": [],
   "source": [
    "import os\n",
    "\n"
   ]
  },
  {
   "cell_type": "code",
   "execution_count": 8,
   "id": "1f9fbf55-594d-42eb-ad58-54162cb84ca5",
   "metadata": {},
   "outputs": [],
   "source": [
    "def list_available_models(models_folder='models'):\n",
    "    # Only show .pkl files, skip scaler if you wish\n",
    "    model_files = [\n",
    "        f for f in os.listdir(models_folder)\n",
    "        if f.endswith('.pkl')\n",
    "#        if f.endswith('.pkl') and 'scaler' not in f.lower()\n",
    "    ]\n",
    "    return model_files"
   ]
  },
  {
   "cell_type": "code",
   "execution_count": 10,
   "id": "85a375bc-abb8-4f95-9ae6-d750817b4183",
   "metadata": {},
   "outputs": [
    {
     "name": "stdout",
     "output_type": "stream",
     "text": [
      "Available models:\n",
      "1. Random Forest Regressor [top_model_1_RandomForestRegressor.pkl]\n",
      "2. Gradient Boosting Regressor [top_model_2_GradientBoostingRegressor.pkl]\n",
      "3. Linear Regression [top_model_3_LinearRegression.pkl]\n"
     ]
    }
   ],
   "source": [
    "import os\n",
    "import re\n",
    "\n",
    "def list_models_with_names(models_folder='models'):\n",
    "    # Only show .pkl files, skip scaler if you wish\n",
    "    model_files = [\n",
    "        f for f in os.listdir(models_folder)\n",
    "        if f.endswith('.pkl') and 'scaler' not in f.lower()\n",
    "    ]\n",
    "\n",
    "    def prettify(filename):\n",
    "        name = os.path.splitext(filename)[0]\n",
    "        name = re.sub(r'^top_model_\\d+_', '', name)\n",
    "        name = re.sub(r'(?<!^)(?=[A-Z])', ' ', name)\n",
    "        return name.strip()\n",
    "\n",
    "    pretty_names = [prettify(f) for f in model_files]\n",
    "    return model_files, pretty_names\n",
    "\n",
    "# Example usage\n",
    "filenames, display_names = list_models_with_names(\"../models\")\n",
    "print(\"Available models:\")\n",
    "for idx, (fname, dname) in enumerate(zip(filenames, display_names), 1):\n",
    "    print(f\"{idx}. {dname} [{fname}]\")\n"
   ]
  },
  {
   "cell_type": "code",
   "execution_count": 9,
   "id": "d7800d7a-2808-4d8a-8b30-24509d323ea8",
   "metadata": {},
   "outputs": [
    {
     "name": "stdout",
     "output_type": "stream",
     "text": [
      "Available models:\n",
      "1. top_model_1_RandomForestRegressor.pkl\n",
      "2. top_model_2_GradientBoostingRegressor.pkl\n",
      "3. top_model_3_LinearRegression.pkl\n",
      "Random Forest Regressor\n",
      "Gradient Boosting Regressor\n",
      "Linear Regression\n"
     ]
    }
   ],
   "source": [
    "\n",
    "import re\n",
    "\n",
    "def capture_userfriendly_model_name(filename):\n",
    "    # Remove extension\n",
    "    name = os.path.splitext(filename)[0]\n",
    "    # Remove prefix if any\n",
    "    name = re.sub(r'^top_model_\\d+_', '', name)\n",
    "    # Add spaces before capital letters (except at the beginning)\n",
    "    name = re.sub(r'(?<!^)(?=[A-Z])', ' ', name)\n",
    "    return name.strip()\n",
    "\n",
    "models = list_available_models(\"../models\")\n",
    "print(\"Available models:\")\n",
    "for idx, model in enumerate(models, 1):\n",
    "    print(f\"{idx}. {model}\")\n",
    "\n",
    "for file in models:\n",
    "    print(capture_userfriendly_model_name(file))\n",
    "\n",
    "# Example: Let user pick a model (uncomment for interactive CLI)\n",
    "# choice = int(input(\"Select a model by number: \")) - 1\n",
    "# selected_model = models[choice]\n",
    "# print(f\"You selected: {selected_model}\")"
   ]
  },
  {
   "cell_type": "code",
   "execution_count": 5,
   "id": "bfc59e08-5b18-436a-8d6d-021ea55c839d",
   "metadata": {},
   "outputs": [
    {
     "name": "stdout",
     "output_type": "stream",
     "text": [
      "Available models:\n",
      "1. top_model_1_RandomForestRegressor.pkl\n",
      "2. top_model_2_GradientBoostingRegressor.pkl\n",
      "3. top_model_3_LinearRegression.pkl\n"
     ]
    }
   ],
   "source": []
  },
  {
   "cell_type": "code",
   "execution_count": null,
   "id": "2f548416-e6a5-4380-87e2-381fca0920d2",
   "metadata": {},
   "outputs": [],
   "source": [
    "import pickle\n",
    "\n",
    "def load_model(model_path):\n",
    "    with open(model_path, 'rb') as f:\n",
    "        return pickle.load(f)\n",
    "\n",
    "# Example of loading the first model\n",
    "selected_model = models[0]\n",
    "model = load_model(os.path.join('models', selected_model))\n",
    "print(f\"Loaded: {selected_model}\")\n",
    "\n"
   ]
  },
  {
   "cell_type": "code",
   "execution_count": null,
   "id": "1bf6cea7-a27b-44b1-8f3a-1c075708ec68",
   "metadata": {},
   "outputs": [],
   "source": [
    "import streamlit as st\n",
    "import os\n",
    "import pickle\n",
    "\n",
    "def list_model_files(model_dir='models'):\n",
    "    return [f for f in os.listdir(model_dir)\n",
    "            if f.endswith('.pkl') and 'scaler' not in f.lower()]\n",
    "\n",
    "models = list_model_files()\n",
    "selected_model = st.selectbox(\"Select a model to use:\", models)\n",
    "\n",
    "if st.button(\"Load Model\"):\n",
    "    with open(os.path.join('models', selected_model), 'rb') as f:\n",
    "        model = pickle.load(f)\n",
    "    st.success(f\"Loaded model: {selected_model}\")\n"
   ]
  },
  {
   "cell_type": "code",
   "execution_count": null,
   "id": "02af20b6-30b8-498d-b11c-d10217470f3e",
   "metadata": {},
   "outputs": [],
   "source": []
  },
  {
   "cell_type": "code",
   "execution_count": 9,
   "id": "c4a9f7e4-f1b5-4f3d-af6b-89b50a11c387",
   "metadata": {},
   "outputs": [],
   "source": [
    "import os\n",
    "import re\n",
    "\n",
    "def debug_print_all_model_display_names():\n",
    "    models_folder = '../models'\n",
    "    for fname in os.listdir(models_folder):\n",
    "        if fname.endswith('.pkl'):\n",
    "            model_filename = os.path.splitext(fname)[0]\n",
    "            display_name = get_model_display_name(model_filename)\n",
    "            print(f\"File: {fname} | Model Filename: {model_filename} | Display Name: {display_name}\")\n",
    "\n",
    "def get_model_display_name(model_filename: str) -> str:\n",
    "    # Try to extract \"topN\" and model type from filename\n",
    "    m = re.match(r'(top\\d+)_([A-Za-z]+)', model_filename)\n",
    "    if m:\n",
    "        top_num = m.group(1).replace('top', 'Top ')\n",
    "        model_type = m.group(2)\n",
    "        # Make model type more readable\n",
    "        model_type = re.sub(r'([A-Z])', r' \\1', model_type).strip()\n",
    "        model_type = model_type.replace('Lars', 'Lars Regression').replace('Lasso', 'Lasso Regression').replace('Ridge', 'Ridge Regression')\n",
    "        return f\"{top_num}: {model_type}\"\n",
    "    # fallback\n",
    "    return \" \".join(word.capitalize() for word in model_filename.split(\"_\"))"
   ]
  },
  {
   "cell_type": "code",
   "execution_count": 10,
   "id": "d399261e-8374-4f56-9667-3a91adeba4c6",
   "metadata": {},
   "outputs": [
    {
     "name": "stdout",
     "output_type": "stream",
     "text": [
      "File: standard_scaler.pkl | Model Filename: standard_scaler | Display Name: Standard Scaler\n",
      "File: top1_BayesianRidge_R2-0.379_MAE-3045.40_RMSE-4623.52_20250624.pkl | Model Filename: top1_BayesianRidge_R2-0.379_MAE-3045.40_RMSE-4623.52_20250624 | Display Name: Top 1: Bayesian Ridge Regression\n",
      "File: top2_Lasso_R2-0.379_MAE-3039.99_RMSE-4621.15_20250624.pkl | Model Filename: top2_Lasso_R2-0.379_MAE-3039.99_RMSE-4621.15_20250624 | Display Name: Top 2: Lasso Regression\n",
      "File: top3_LassoLars_R2-0.379_MAE-3046.27_RMSE-4623.88_20250624.pkl | Model Filename: top3_LassoLars_R2-0.379_MAE-3046.27_RMSE-4623.88_20250624 | Display Name: Top 3: Lasso Regression Lars Regression\n"
     ]
    }
   ],
   "source": [
    "debug_print_all_model_display_names()"
   ]
  },
  {
   "cell_type": "code",
   "execution_count": null,
   "id": "26d806c4-a78d-4c0a-bc86-f9249dcd8f65",
   "metadata": {},
   "outputs": [],
   "source": []
  },
  {
   "cell_type": "code",
   "execution_count": null,
   "id": "cb5a50b0-7a6e-4fe8-b1d1-6a9d88baa362",
   "metadata": {},
   "outputs": [],
   "source": []
  }
 ],
 "metadata": {
  "kernelspec": {
   "display_name": "Python 3 (ipykernel)",
   "language": "python",
   "name": "python3"
  },
  "language_info": {
   "codemirror_mode": {
    "name": "ipython",
    "version": 3
   },
   "file_extension": ".py",
   "mimetype": "text/x-python",
   "name": "python",
   "nbconvert_exporter": "python",
   "pygments_lexer": "ipython3",
   "version": "3.11.11"
  }
 },
 "nbformat": 4,
 "nbformat_minor": 5
}
